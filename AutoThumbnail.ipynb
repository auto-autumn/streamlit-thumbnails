{
 "cells": [
  {
   "cell_type": "code",
   "execution_count": 12,
   "metadata": {
    "scrolled": true
   },
   "outputs": [],
   "source": [
    "import numpy as np\n",
    "from PIL import Image, ImageDraw, ImageFilter\n",
    "\n",
    "# 画像を後で入れる空のリスト\n",
    "imgs = []\n",
    "\n",
    "# URLを下になる画像から順に入れる\n",
    "urls = ['base.png', 'field.jpg', 'yattazeyossya.png', 'Splatoon2logo.png',\n",
    "        'decorators-12_2x.png', 'decorators-12_2x.png']\n",
    "genres = ['base', 'back', 'person', 'logo', 'deco', 'deco']\n",
    "for i, url in enumerate(urls):\n",
    "    imgs.append(Image.open(url))\n",
    "\n",
    "# 背景に色付け\n",
    "draw = ImageDraw.Draw(imgs[0])\n",
    "full_size = np.array(imgs[0].size)\n",
    "base_color = np.random.randint(0, 255, 3)\n",
    "draw.rectangle((0, 0, tuple(full_size)), fill=(\n",
    "    base_color[0], base_color[1], base_color[2]))\n",
    "\n",
    "# 背景と混ぜた枠をセット※mode'RGBA'と'RGB'とかを揃える必要あり\n",
    "imgs[1] = imgs[1].resize(tuple(full_size))\n",
    "imgs[0] = Image.blend(imgs[0], imgs[1].convert('RGBA'), 0.5)\n",
    "\n",
    "# 背景画像をセット\n",
    "imgs[1] = imgs[1].resize(tuple(full_size-[20, 20]))\n",
    "imgs[0].paste(imgs[1], (15, 10))\n",
    "\n",
    "# 背景画像(通常1280,720)内に画像を散りばめる乱数を生成\n",
    "number = len(imgs)\n",
    "widths = []\n",
    "heights = []\n",
    "for k in range(number-2):\n",
    "    img_ratio = (imgs[k+2].width / imgs[k+2].height) ** 0.5\n",
    "    if genres[k+2] == 'logo':\n",
    "        size_base = 400\n",
    "    elif genres[k+2] == 'deco':\n",
    "        size_base = 100\n",
    "    elif genres[k+2] == 'person':\n",
    "        size_base = 700\n",
    "    new_size = tuple([round(size_base*img_ratio), round(size_base/img_ratio)])\n",
    "    imgs[k+2] = imgs[k+2].resize(new_size)\n",
    "    widths.append(np.random.randint(0, full_size[0]-new_size[0]))\n",
    "    heights.append(np.random.randint(0, full_size[1]-new_size[1]))\n",
    "\n",
    "# 画像を配置\n",
    "for j, x, y in zip(range(number-2), widths, heights):\n",
    "    mask = imgs[j+2].copy().convert('RGBA')\n",
    "    imgs[0].paste(imgs[j+2], (x, y), mask)\n",
    "\n",
    "imgs[0].save('process.png', quality=95)"
   ]
  },
  {
   "cell_type": "code",
   "execution_count": 3,
   "metadata": {},
   "outputs": [
    {
     "data": {
      "text/plain": [
       "'RGBA'"
      ]
     },
     "execution_count": 3,
     "metadata": {},
     "output_type": "execute_result"
    }
   ],
   "source": [
    "imgs[0].mode"
   ]
  },
  {
   "cell_type": "code",
   "execution_count": 4,
   "metadata": {},
   "outputs": [
    {
     "data": {
      "text/plain": [
       "'RGB'"
      ]
     },
     "execution_count": 4,
     "metadata": {},
     "output_type": "execute_result"
    }
   ],
   "source": [
    "imgs[1].mode"
   ]
  }
 ],
 "metadata": {
  "kernelspec": {
   "display_name": "Python 3",
   "language": "python",
   "name": "python3"
  },
  "language_info": {
   "codemirror_mode": {
    "name": "ipython",
    "version": 3
   },
   "file_extension": ".py",
   "mimetype": "text/x-python",
   "name": "python",
   "nbconvert_exporter": "python",
   "pygments_lexer": "ipython3",
   "version": "3.7.6"
  },
  "varInspector": {
   "cols": {
    "lenName": 16,
    "lenType": 16,
    "lenVar": 40
   },
   "kernels_config": {
    "python": {
     "delete_cmd_postfix": "",
     "delete_cmd_prefix": "del ",
     "library": "var_list.py",
     "varRefreshCmd": "print(var_dic_list())"
    },
    "r": {
     "delete_cmd_postfix": ") ",
     "delete_cmd_prefix": "rm(",
     "library": "var_list.r",
     "varRefreshCmd": "cat(var_dic_list()) "
    }
   },
   "types_to_exclude": [
    "module",
    "function",
    "builtin_function_or_method",
    "instance",
    "_Feature"
   ],
   "window_display": false
  }
 },
 "nbformat": 4,
 "nbformat_minor": 4
}
